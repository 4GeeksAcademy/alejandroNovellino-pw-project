{
 "cells": [
  {
   "attachments": {},
   "cell_type": "markdown",
   "id": "innocent-university",
   "metadata": {},
   "source": [
    "# Real Estate Clean up\n",
    "\n",
    "This is a real dataset, and it was downloaded using web scraping techniques. The data contains registers from **Fotocasa** which is one of the most popular real estate websites in Spain. Please, do not do this (web scraping) unless it is for academic purposes.\n",
    "\n",
    "The dataset was downloaded a few years ago by Henry Navarro, and in no case were economic returns obtained from it.\n",
    "\n",
    "It contains thousands of data from real houses published on the web www.fotocasa.com. Your goal is to extract as much information as possible with the knowledge you have so far about data science, for example what is the most expensive house in the entire dataset?\n",
    "\n",
    "Let's start with precisely that question... Good luck!"
   ]
  },
  {
   "attachments": {},
   "cell_type": "markdown",
   "id": "multiple-glass",
   "metadata": {},
   "source": [
    "#### Exercise 00. Read the dataset assets/real_estate.csv and try to visualize the table (★☆☆)"
   ]
  },
  {
   "cell_type": "code",
   "execution_count": 1,
   "id": "frank-heath",
   "metadata": {},
   "outputs": [
    {
     "data": {
      "text/html": [
       "<div>\n",
       "<style scoped>\n",
       "    .dataframe tbody tr th:only-of-type {\n",
       "        vertical-align: middle;\n",
       "    }\n",
       "\n",
       "    .dataframe tbody tr th {\n",
       "        vertical-align: top;\n",
       "    }\n",
       "\n",
       "    .dataframe thead th {\n",
       "        text-align: right;\n",
       "    }\n",
       "</style>\n",
       "<table border=\"1\" class=\"dataframe\">\n",
       "  <thead>\n",
       "    <tr style=\"text-align: right;\">\n",
       "      <th></th>\n",
       "      <th>Unnamed: 0</th>\n",
       "      <th>id_realEstates</th>\n",
       "      <th>isNew</th>\n",
       "      <th>realEstate_name</th>\n",
       "      <th>phone_realEstate</th>\n",
       "      <th>url_inmueble</th>\n",
       "      <th>rooms</th>\n",
       "      <th>bathrooms</th>\n",
       "      <th>surface</th>\n",
       "      <th>price</th>\n",
       "      <th>...</th>\n",
       "      <th>level4Id</th>\n",
       "      <th>level5Id</th>\n",
       "      <th>level6Id</th>\n",
       "      <th>level7Id</th>\n",
       "      <th>level8Id</th>\n",
       "      <th>accuracy</th>\n",
       "      <th>latitude</th>\n",
       "      <th>longitude</th>\n",
       "      <th>zipCode</th>\n",
       "      <th>customZone</th>\n",
       "    </tr>\n",
       "  </thead>\n",
       "  <tbody>\n",
       "    <tr>\n",
       "      <th>0</th>\n",
       "      <td>1</td>\n",
       "      <td>153771986</td>\n",
       "      <td>False</td>\n",
       "      <td>ferrari 57 inmobiliaria</td>\n",
       "      <td>912177526.0</td>\n",
       "      <td>https://www.fotocasa.es/es/comprar/vivienda/ma...</td>\n",
       "      <td>3.0</td>\n",
       "      <td>2.0</td>\n",
       "      <td>103.0</td>\n",
       "      <td>195000</td>\n",
       "      <td>...</td>\n",
       "      <td>0</td>\n",
       "      <td>0</td>\n",
       "      <td>0</td>\n",
       "      <td>0</td>\n",
       "      <td>0</td>\n",
       "      <td>0</td>\n",
       "      <td>40,2948276786438</td>\n",
       "      <td>-3,44402412135624</td>\n",
       "      <td>NaN</td>\n",
       "      <td>NaN</td>\n",
       "    </tr>\n",
       "    <tr>\n",
       "      <th>1</th>\n",
       "      <td>2</td>\n",
       "      <td>153867863</td>\n",
       "      <td>False</td>\n",
       "      <td>tecnocasa fuenlabrada ferrocarril</td>\n",
       "      <td>916358736.0</td>\n",
       "      <td>https://www.fotocasa.es/es/comprar/vivienda/ma...</td>\n",
       "      <td>3.0</td>\n",
       "      <td>1.0</td>\n",
       "      <td>NaN</td>\n",
       "      <td>89000</td>\n",
       "      <td>...</td>\n",
       "      <td>0</td>\n",
       "      <td>0</td>\n",
       "      <td>0</td>\n",
       "      <td>0</td>\n",
       "      <td>0</td>\n",
       "      <td>1</td>\n",
       "      <td>40,28674</td>\n",
       "      <td>-3,79351</td>\n",
       "      <td>NaN</td>\n",
       "      <td>NaN</td>\n",
       "    </tr>\n",
       "    <tr>\n",
       "      <th>2</th>\n",
       "      <td>3</td>\n",
       "      <td>153430440</td>\n",
       "      <td>False</td>\n",
       "      <td>look find boadilla</td>\n",
       "      <td>916350408.0</td>\n",
       "      <td>https://www.fotocasa.es/es/comprar/vivienda/ma...</td>\n",
       "      <td>2.0</td>\n",
       "      <td>2.0</td>\n",
       "      <td>99.0</td>\n",
       "      <td>390000</td>\n",
       "      <td>...</td>\n",
       "      <td>0</td>\n",
       "      <td>0</td>\n",
       "      <td>0</td>\n",
       "      <td>0</td>\n",
       "      <td>0</td>\n",
       "      <td>0</td>\n",
       "      <td>40,4115646786438</td>\n",
       "      <td>-3,90662252135624</td>\n",
       "      <td>NaN</td>\n",
       "      <td>NaN</td>\n",
       "    </tr>\n",
       "    <tr>\n",
       "      <th>3</th>\n",
       "      <td>4</td>\n",
       "      <td>152776331</td>\n",
       "      <td>False</td>\n",
       "      <td>tecnocasa fuenlabrada ferrocarril</td>\n",
       "      <td>916358736.0</td>\n",
       "      <td>https://www.fotocasa.es/es/comprar/vivienda/ma...</td>\n",
       "      <td>3.0</td>\n",
       "      <td>1.0</td>\n",
       "      <td>86.0</td>\n",
       "      <td>89000</td>\n",
       "      <td>...</td>\n",
       "      <td>0</td>\n",
       "      <td>0</td>\n",
       "      <td>0</td>\n",
       "      <td>0</td>\n",
       "      <td>0</td>\n",
       "      <td>0</td>\n",
       "      <td>40,2853785786438</td>\n",
       "      <td>-3,79508142135624</td>\n",
       "      <td>NaN</td>\n",
       "      <td>NaN</td>\n",
       "    </tr>\n",
       "    <tr>\n",
       "      <th>4</th>\n",
       "      <td>5</td>\n",
       "      <td>153180188</td>\n",
       "      <td>False</td>\n",
       "      <td>ferrari 57 inmobiliaria</td>\n",
       "      <td>912177526.0</td>\n",
       "      <td>https://www.fotocasa.es/es/comprar/vivienda/ma...</td>\n",
       "      <td>2.0</td>\n",
       "      <td>2.0</td>\n",
       "      <td>106.0</td>\n",
       "      <td>172000</td>\n",
       "      <td>...</td>\n",
       "      <td>0</td>\n",
       "      <td>0</td>\n",
       "      <td>0</td>\n",
       "      <td>0</td>\n",
       "      <td>0</td>\n",
       "      <td>0</td>\n",
       "      <td>40,2998774864376</td>\n",
       "      <td>-3,45226301356237</td>\n",
       "      <td>NaN</td>\n",
       "      <td>NaN</td>\n",
       "    </tr>\n",
       "  </tbody>\n",
       "</table>\n",
       "<p>5 rows × 37 columns</p>\n",
       "</div>"
      ],
      "text/plain": [
       "   Unnamed: 0  id_realEstates  isNew                    realEstate_name  \\\n",
       "0           1       153771986  False            ferrari 57 inmobiliaria   \n",
       "1           2       153867863  False  tecnocasa fuenlabrada ferrocarril   \n",
       "2           3       153430440  False                 look find boadilla   \n",
       "3           4       152776331  False  tecnocasa fuenlabrada ferrocarril   \n",
       "4           5       153180188  False            ferrari 57 inmobiliaria   \n",
       "\n",
       "   phone_realEstate                                       url_inmueble  rooms  \\\n",
       "0       912177526.0  https://www.fotocasa.es/es/comprar/vivienda/ma...    3.0   \n",
       "1       916358736.0  https://www.fotocasa.es/es/comprar/vivienda/ma...    3.0   \n",
       "2       916350408.0  https://www.fotocasa.es/es/comprar/vivienda/ma...    2.0   \n",
       "3       916358736.0  https://www.fotocasa.es/es/comprar/vivienda/ma...    3.0   \n",
       "4       912177526.0  https://www.fotocasa.es/es/comprar/vivienda/ma...    2.0   \n",
       "\n",
       "   bathrooms  surface   price  ... level4Id level5Id level6Id level7Id  \\\n",
       "0        2.0    103.0  195000  ...        0        0        0        0   \n",
       "1        1.0      NaN   89000  ...        0        0        0        0   \n",
       "2        2.0     99.0  390000  ...        0        0        0        0   \n",
       "3        1.0     86.0   89000  ...        0        0        0        0   \n",
       "4        2.0    106.0  172000  ...        0        0        0        0   \n",
       "\n",
       "  level8Id accuracy          latitude          longitude zipCode customZone  \n",
       "0        0        0  40,2948276786438  -3,44402412135624     NaN        NaN  \n",
       "1        0        1          40,28674           -3,79351     NaN        NaN  \n",
       "2        0        0  40,4115646786438  -3,90662252135624     NaN        NaN  \n",
       "3        0        0  40,2853785786438  -3,79508142135624     NaN        NaN  \n",
       "4        0        0  40,2998774864376  -3,45226301356237     NaN        NaN  \n",
       "\n",
       "[5 rows x 37 columns]"
      ]
     },
     "execution_count": 1,
     "metadata": {},
     "output_type": "execute_result"
    }
   ],
   "source": [
    "import pandas as pd\n",
    "\n",
    "# This CSV file contains semicolons instead of comas as separator\n",
    "df = pd.read_csv('assets/real_estate.csv', sep=';')\n",
    "df.head()"
   ]
  },
  {
   "cell_type": "code",
   "execution_count": null,
   "id": "a2b09085",
   "metadata": {},
   "outputs": [
    {
     "name": "stdout",
     "output_type": "stream",
     "text": [
      "<class 'pandas.core.frame.DataFrame'>\n",
      "RangeIndex: 15335 entries, 0 to 15334\n",
      "Data columns (total 37 columns):\n",
      " #   Column            Non-Null Count  Dtype  \n",
      "---  ------            --------------  -----  \n",
      " 0   Unnamed: 0        15335 non-null  int64  \n",
      " 1   id_realEstates    15335 non-null  int64  \n",
      " 2   isNew             15335 non-null  bool   \n",
      " 3   realEstate_name   15325 non-null  object \n",
      " 4   phone_realEstate  14541 non-null  float64\n",
      " 5   url_inmueble      15335 non-null  object \n",
      " 6   rooms             14982 non-null  float64\n",
      " 7   bathrooms         14990 non-null  float64\n",
      " 8   surface           14085 non-null  float64\n",
      " 9   price             15335 non-null  int64  \n",
      " 10  date              15335 non-null  object \n",
      " 11  description       15193 non-null  object \n",
      " 12  address           15335 non-null  object \n",
      " 13  country           15335 non-null  object \n",
      " 14  level1            15335 non-null  object \n",
      " 15  level2            15335 non-null  object \n",
      " 16  level3            15335 non-null  object \n",
      " 17  level4            8692 non-null   object \n",
      " 18  level5            15335 non-null  object \n",
      " 19  level6            708 non-null    object \n",
      " 20  level7            13058 non-null  object \n",
      " 21  level8            6756 non-null   object \n",
      " 22  upperLevel        15335 non-null  object \n",
      " 23  countryId         15335 non-null  int64  \n",
      " 24  level1Id          15335 non-null  int64  \n",
      " 25  level2Id          15335 non-null  int64  \n",
      " 26  level3Id          15335 non-null  int64  \n",
      " 27  level4Id          15335 non-null  int64  \n",
      " 28  level5Id          15335 non-null  int64  \n",
      " 29  level6Id          15335 non-null  int64  \n",
      " 30  level7Id          15335 non-null  int64  \n",
      " 31  level8Id          15335 non-null  int64  \n",
      " 32  accuracy          15335 non-null  int64  \n",
      " 33  latitude          15335 non-null  object \n",
      " 34  longitude         15335 non-null  object \n",
      " 35  zipCode           0 non-null      float64\n",
      " 36  customZone        0 non-null      float64\n",
      "dtypes: bool(1), float64(6), int64(13), object(17)\n",
      "memory usage: 4.2+ MB\n"
     ]
    }
   ],
   "source": [
    "# get the info of the dataframe\n",
    "df.info()"
   ]
  },
  {
   "attachments": {},
   "cell_type": "markdown",
   "id": "latin-guest",
   "metadata": {},
   "source": [
    "#### Exercise 01. Which is the most expensive house in the dataset? (★☆☆)\n",
    "\n",
    "Print the address and the price of the selected house. For example:\n",
    "\n",
    "`The house with address General Street Nº5 is the most expensive and its price is 5000000 USD`"
   ]
  },
  {
   "cell_type": "code",
   "execution_count": 3,
   "id": "developing-optimum",
   "metadata": {},
   "outputs": [
    {
     "name": "stdout",
     "output_type": "stream",
     "text": [
      "The house with the address 'El Escorial' is the most expensive and its price is 8500000\n"
     ]
    }
   ],
   "source": [
    "# get the index of the element\n",
    "max_price_index = df['price'].idxmax()\n",
    "\n",
    "# get the values\n",
    "values = df.loc[max_price_index, ['price', 'address']]\n",
    "\n",
    "print(f'''The house with the address '{values.loc['address']}' is the most expensive and its price is {values.loc['price']}''')"
   ]
  },
  {
   "attachments": {},
   "cell_type": "markdown",
   "id": "lesser-cosmetic",
   "metadata": {},
   "source": [
    "#### Exercise 02. Which is the cheapest house in the dataset? (★☆☆)\n",
    "\n",
    "Print the address and the price of the selected house. For example:\n",
    "\n",
    "`The house with address Concrete Street Nº1 is the cheapest and its price is 12000 USD`"
   ]
  },
  {
   "cell_type": "code",
   "execution_count": 4,
   "id": "lovely-oasis",
   "metadata": {},
   "outputs": [
    {
     "name": "stdout",
     "output_type": "stream",
     "text": [
      "The house with the address 'Parla' is the cheapest and its price is 0\n"
     ]
    }
   ],
   "source": [
    "# get the index of the element\n",
    "min_price_index = df['price'].idxmin()\n",
    "\n",
    "# get the values\n",
    "values = df.loc[min_price_index, ['price', 'address']]\n",
    "\n",
    "print(f'''The house with the address '{values.loc['address']}' is the cheapest and its price is {values.loc['price']}''')"
   ]
  },
  {
   "attachments": {},
   "cell_type": "markdown",
   "id": "compliant-fellowship",
   "metadata": {},
   "source": [
    "#### Exercise 03. Which is the biggest and the smallest house in the dataset? (★☆☆)\n",
    "\n",
    "Print both the address and the surface of the selected houses. For example:\n",
    "\n",
    "`The biggest house is located on Yukka Street Nº10 and its surface is 5000 meters`\n",
    "\n",
    "`The smallest house is located on County Road 1 N and its surface is 200 meters`"
   ]
  },
  {
   "cell_type": "code",
   "execution_count": 5,
   "id": "every-tiffany",
   "metadata": {},
   "outputs": [
    {
     "name": "stdout",
     "output_type": "stream",
     "text": [
      "The biggest house is located on 'Sevilla la Nueva' and its surface is 249000.0 meters\n",
      "The smallest house is located on 'Calle Amparo,  Madrid Capital' and its surface is 15.0 meters\n"
     ]
    }
   ],
   "source": [
    "# get the index of the element\n",
    "biggest_index = df['surface'].idxmax()\n",
    "smallest_index = df['surface'].idxmin()\n",
    "\n",
    "# get the values\n",
    "biggest_values = df.loc[biggest_index, ['surface', 'address']]\n",
    "smallest_values = df.loc[smallest_index, ['surface', 'address']]\n",
    "\n",
    "print(f'''The biggest house is located on '{biggest_values.loc['address']}' and its surface is {biggest_values.loc['surface']} meters''')\n",
    "print(f'''The smallest house is located on '{smallest_values.loc['address']}' and its surface is {smallest_values.loc['surface']} meters''')"
   ]
  },
  {
   "attachments": {},
   "cell_type": "markdown",
   "id": "danish-spirit",
   "metadata": {},
   "source": [
    "#### Exercise 04. How many populations (level5 column) the dataset contains? (★☆☆)\n",
    "\n",
    "Print the names of the populations with a comma as a separator. For example:\n",
    "\n",
    "`> print(populations)`\n",
    "\n",
    "`population1, population2, population3, ...`"
   ]
  },
  {
   "cell_type": "code",
   "execution_count": 6,
   "id": "exciting-accreditation",
   "metadata": {},
   "outputs": [
    {
     "name": "stdout",
     "output_type": "stream",
     "text": [
      "Arganda del Rey, Fuenlabrada, Boadilla del Monte, Las Rozas de Madrid,  Madrid Capital, Villaviciosa de Odón, Pinto, Valdemoro, Navalcarnero, Pozuelo de Alarcón, Torrejón de Ardoz, Navalagamella, San Sebastián de los Reyes, Rivas-vaciamadrid, Alpedrete, Móstoles, San Fernando de Henares, Coslada, Becerril de la Sierra, Alcalá de Henares, Chinchón, Parla, Alcorcón, El Escorial, Leganés, Pedrezuela, Majadahonda, Villanueva de la Cañada, Villanueva del Pardillo, Torrelodones, Moralzarzal, Mejorada del Campo, Aranjuez, Corpa, Getafe, Velilla de San Antonio, Sevilla la Nueva, San Martín de la Vega, Villalbilla, Collado Villalba, Alcobendas, El Molar (Madrid), Moraleja de Enmedio, Algete, Campo Real, Torrejón de la Calzada, Colmenar Viejo, Valdemorillo, Fuente El Saz de Jarama, Tres Cantos, Arroyomolinos (Madrid), Griñón, Paracuellos de Jarama, Guadarrama, Titulcia, Galapagar, Collado Mediano, Los Molinos, San Lorenzo de El Escorial, Loeches, San Martín de Valdeiglesias, Navas del Rey, Bustarviejo, Manzanares El Real, Carabaña, Casarrubuelos, Cercedilla, Fresnedillas de la Oliva, Valdemaqueda, Robledo de Chavela, Miraflores de la Sierra, Humanes de Madrid, Valdetorres de Jarama, San Agustín del Guadalix, Ciempozuelos, Camarma de Esteruelas, Torres de la Alameda, Talamanca de Jarama, El Atazar, Hoyo de Manzanares, El Boalo - Cerceda – Mataelpino, El Álamo, Valdilecha, Valdeolmos-Alalpardo, Guadalix de la Sierra, Belmonte de Tajo, El Vellón, Brunete, Redueña, Morata de Tajuña, Tielmes, Gargantilla del Lozoya, Meco, Venturada, Quijorna, Cenicientos, Torrejón de Velasco, Navacerrada, Santa María de la Alameda, Orusco de Tajuña, Daganzo de Arriba, Villamanta, Anchuelo, Valdaracete, Ajalvir, Los Santos de la Humosa, Villamanrique de Tajo, Colmenar de Oreja, Villa del Prado, Fuentidueña de Tajo, Colmenar del Arroyo, Valdelaguna, Cubas de la Sagra, Valdeavero, Aldea del Fresno, Ribatejada, Torrelaguna, Batres, Pezuela de las Torres, Colmenarejo, Serranillos del Valle, Cobeña, Soto del Real, El Berrueco, Villanueva de Perales, Fresno de Torote - Serracines, Pozuelo del Rey, Pelayos de la Presa, La Cabrera, Nuevo Baztán, Perales de Tajuña, Villaconejos, Villarejo de Salvanés, Cadalso de los Vidrios, Santorcaz, Madarcos, Garganta de los Montes, Puentes Viejas, Torremocha de Jarama, Valdemanco, Braojos, Lozoyuela-navas-sieteiglesias, Piñuécar-gandullas, Valdepiélagos, Valverde de Alcalá, Villar del Olmo, Villamantilla, Horcajo de la Sierra, Gascones, Zarzalejo, Villavieja del Lozoya, Brea de Tajo, Estremera, Chapinería, Navarredonda, Patones, Ambite, Navalafuente, Lozoya, Canencia, Cabanillas de la Sierra, Buitrago del Lozoya, Fresno de Torote, Robregordo, Pinilla del Valle, Rascafría, La Hiruela, Montejo de la Sierra\n"
     ]
    }
   ],
   "source": [
    "# get the population of the column called 'level5'\n",
    "# and join them with comas\n",
    "print(', '.join(df['level5'].unique()))"
   ]
  },
  {
   "attachments": {},
   "cell_type": "markdown",
   "id": "crazy-blame",
   "metadata": {},
   "source": [
    "#### Exercise 05. Does the dataset contain NAs? (★☆☆)\n",
    "\n",
    "Print a boolean value (`True` or `False`) followed by the rows/cols that contains NAs."
   ]
  },
  {
   "cell_type": "code",
   "execution_count": 7,
   "id": "transparent-poetry",
   "metadata": {},
   "outputs": [
    {
     "name": "stdout",
     "output_type": "stream",
     "text": [
      "Unnamed: 0              0\n",
      "id_realEstates          0\n",
      "isNew                   0\n",
      "realEstate_name        10\n",
      "phone_realEstate      794\n",
      "url_inmueble            0\n",
      "rooms                 353\n",
      "bathrooms             345\n",
      "surface              1250\n",
      "price                   0\n",
      "date                    0\n",
      "description           142\n",
      "address                 0\n",
      "country                 0\n",
      "level1                  0\n",
      "level2                  0\n",
      "level3                  0\n",
      "level4               6643\n",
      "level5                  0\n",
      "level6              14627\n",
      "level7               2277\n",
      "level8               8579\n",
      "upperLevel              0\n",
      "countryId               0\n",
      "level1Id                0\n",
      "level2Id                0\n",
      "level3Id                0\n",
      "level4Id                0\n",
      "level5Id                0\n",
      "level6Id                0\n",
      "level7Id                0\n",
      "level8Id                0\n",
      "accuracy                0\n",
      "latitude                0\n",
      "longitude               0\n",
      "zipCode             15335\n",
      "customZone          15335\n",
      "dtype: int64\n"
     ]
    }
   ],
   "source": [
    "# NaN values in each column\n",
    "nan_values = df.isna().sum()\n",
    "print(nan_values)"
   ]
  },
  {
   "cell_type": "code",
   "execution_count": null,
   "id": "5000c4bd",
   "metadata": {},
   "outputs": [
    {
     "name": "stdout",
     "output_type": "stream",
     "text": [
      "0        4\n",
      "1        5\n",
      "2        4\n",
      "3        4\n",
      "4        4\n",
      "        ..\n",
      "15330    4\n",
      "15331    5\n",
      "15332    5\n",
      "15333    5\n",
      "15334    4\n",
      "Length: 15335, dtype: int64\n"
     ]
    }
   ],
   "source": [
    "# NaN values in each row\n",
    "nan_values = df.isna().sum(axis=1)\n",
    "print(nan_values)"
   ]
  },
  {
   "attachments": {},
   "cell_type": "markdown",
   "id": "italic-hydrogen",
   "metadata": {},
   "source": [
    "#### Exercise 06. Delete the NAs of the dataset, if applicable (★★☆)\n",
    "\n",
    "Print a comparison between the dimensions of the original DataFrame versus the DataFrame after the deletions."
   ]
  },
  {
   "cell_type": "code",
   "execution_count": 9,
   "id": "administrative-roads",
   "metadata": {},
   "outputs": [
    {
     "name": "stdout",
     "output_type": "stream",
     "text": [
      "Shape of the original df: (15335, 37)\n",
      "Shape of the modified df without columns with NaN: (15335, 25)\n",
      "Shape of the modified df without rows with NaN: (0, 37)\n",
      "Shape of the modified df without columns and rows with NaN: (15335, 25)\n"
     ]
    }
   ],
   "source": [
    "print(f'Shape of the original df: {df.shape}')\n",
    "# delete all the columns that atleast have a NaN\n",
    "print(f'Shape of the modified df without columns with NaN: {df.dropna(axis=1).shape}')\n",
    "# delete all the rows that atleast have a NaN\n",
    "print(f'Shape of the modified df without rows with NaN: {df.dropna(axis=0).shape}')\n",
    "# delete everything (it is the same thing that deleting the columns)\n",
    "print(f'Shape of the modified df without columns and rows with NaN: {df.dropna(axis=1).dropna(axis=0).shape}')"
   ]
  },
  {
   "attachments": {},
   "cell_type": "markdown",
   "id": "middle-china",
   "metadata": {},
   "source": [
    "#### Exercise 07. Which is the mean of prices in the population (level5 column) of \"Arroyomolinos (Madrid)\"? (★★☆)\n",
    "\n",
    "Print the obtained value."
   ]
  },
  {
   "cell_type": "code",
   "execution_count": 10,
   "id": "nuclear-belief",
   "metadata": {},
   "outputs": [
    {
     "name": "stdout",
     "output_type": "stream",
     "text": [
      "The mean of prices in the population (level5 column) of 'Arroyomolinos Madrid' is: 294541.59854014596\n"
     ]
    }
   ],
   "source": [
    "# get the elements\n",
    "mean = df[df['level5'] == 'Arroyomolinos (Madrid)']['price'].mean()\n",
    "print(f'''The mean of prices in the population (level5 column) of 'Arroyomolinos Madrid' is: {mean}''')"
   ]
  },
  {
   "attachments": {},
   "cell_type": "markdown",
   "id": "concerned-radical",
   "metadata": {},
   "source": [
    "#### Exercise 08. Plot the histogram of prices for the population (level5 column) of \"Arroyomolinos (Madrid)\" and explain what you observe (★★☆)\n",
    "\n",
    "Print the histogram of the prices and write in the Markdown cell a brief analysis about the plot."
   ]
  },
  {
   "cell_type": "code",
   "execution_count": 11,
   "id": "sudden-message",
   "metadata": {},
   "outputs": [
    {
     "data": {
      "image/png": "[encoded data removed]",
      "text/plain": [
       "<Figure size 1000x800 with 1 Axes>"
      ]
     },
     "metadata": {},
     "output_type": "display_data"
    }
   ],
   "source": [
    "import matplotlib.pyplot as plt\n",
    "\n",
    "data = df[df['level5'] == 'Arroyomolinos (Madrid)']['price']\n",
    "\n",
    "# set the plot\n",
    "plt.figure(figsize=(10,8))\n",
    "\n",
    "plt.hist(x=data, bins='auto', alpha=0.7)\n",
    "\n",
    "plt.title('Histograma precio de la poblacion en Arroyomolinos')\n",
    "plt.show()"
   ]
  },
  {
   "cell_type": "markdown",
   "id": "16fe4acd",
   "metadata": {},
   "source": [
    "## Analysis\n",
    "\n",
    "The distribution has a unimodal shape since it has a single peak (mode) which is close to the value of 350,000. We can see that the distribution goes from price 0 to approximately 600,000, and most of the prices are in the range between 200,000 and 400,000."
   ]
  },
  {
   "attachments": {},
   "cell_type": "markdown",
   "id": "actual-edinburgh",
   "metadata": {},
   "source": [
    "#### Exercise 09. Are the average prices of \"Valdemorillo\" and \"Galapagar\" the same? (★★☆)\n",
    "\n",
    "Print both average prices and then write a conclusion about them."
   ]
  },
  {
   "cell_type": "code",
   "execution_count": 12,
   "id": "numeric-commerce",
   "metadata": {},
   "outputs": [
    {
     "name": "stdout",
     "output_type": "stream",
     "text": [
      "The values are Valdemorillo: 363860.2931034483 and Galapagar 360063.20238095237\n",
      "Not equal\n"
     ]
    }
   ],
   "source": [
    "# get the values\n",
    "valdemorillo_avg_price = df[df['level5'] == 'Valdemorillo']['price'].mean()\n",
    "galapagar_avg_price = df[df['level5'] == 'Galapagar']['price'].mean()\n",
    "\n",
    "print(f'The values are Valdemorillo: {valdemorillo_avg_price} and Galapagar {galapagar_avg_price}')\n",
    "print('Are equal' if valdemorillo_avg_price == galapagar_avg_price else 'Not equal')"
   ]
  },
  {
   "cell_type": "markdown",
   "id": "59689e0b",
   "metadata": {},
   "source": [
    "*Conclusion:* No, the average values ​​are different, the average prices in Valdemorillo are higher, we can conclude that Valdemorillo could be a more expensive area."
   ]
  },
  {
   "attachments": {},
   "cell_type": "markdown",
   "id": "lonely-article",
   "metadata": {},
   "source": [
    "#### Exercise 10. Are the average prices per square meter (price/m2) of \"Valdemorillo\" and \"Galapagar\" the same? (★★☆)\n",
    "\n",
    "Print both average prices and then write a conclusion about it.\n",
    "\n",
    "Hint: Create a new column called `pps` (price per square meter) and then analyze the values."
   ]
  },
  {
   "cell_type": "code",
   "execution_count": 13,
   "id": "hourly-globe",
   "metadata": {},
   "outputs": [
    {
     "name": "stdout",
     "output_type": "stream",
     "text": [
      "The values are Valdemorillo: 1317.9502109024986 (price/surface) and Galapagar 1606.3240303094024 (price/surface)\n",
      "Not equal\n"
     ]
    }
   ],
   "source": [
    "import numpy as np\n",
    "\n",
    "# create the column\n",
    "df['pps'] = np.divide(df['price'], df['surface'])\n",
    "\n",
    "# get the values\n",
    "valdemorillo_pps_mean = df[df['level5'] == 'Valdemorillo']['pps'].mean()\n",
    "galapagar_pps_mean = df[df['level5'] == 'Galapagar']['pps'].mean()\n",
    "\n",
    "print(f'The values are Valdemorillo: {valdemorillo_pps_mean} (price/surface) and Galapagar {galapagar_pps_mean} (price/surface)')\n",
    "print('Are equal' if valdemorillo_avg_price == galapagar_avg_price else 'Not equal')"
   ]
  },
  {
   "cell_type": "markdown",
   "id": "6ed32027",
   "metadata": {},
   "source": [
    "*Conclusion:* The average values ​​are different, the average price of the square meter is higher in Galapagar, we can conclude that Galapagar could be a more expensive area."
   ]
  },
  {
   "attachments": {},
   "cell_type": "markdown",
   "id": "pleasant-invite",
   "metadata": {},
   "source": [
    "#### Exercise 11. Analyze the relation between the surface and the price of the houses (★★☆)\n",
    "\n",
    "Hint: You can make a `scatter plot`, then write a conclusion about it."
   ]
  },
  {
   "cell_type": "code",
   "execution_count": 14,
   "id": "common-drilling",
   "metadata": {},
   "outputs": [
    {
     "data": {
      "image/png": "[encoded data removed]",
      "text/plain": [
       "<Figure size 1000x500 with 1 Axes>"
      ]
     },
     "metadata": {},
     "output_type": "display_data"
    }
   ],
   "source": [
    "X = df['surface']\n",
    "y = df['price']\n",
    "\n",
    "# set the plot\n",
    "plt.figure(figsize=(10,5))\n",
    "\n",
    "plt.scatter(x=X, y=y)\n",
    "\n",
    "plt.title('Surface Vs Price')\n",
    "\n",
    "plt.xlabel('Surface')\n",
    "plt.ylabel('Price')\n",
    "\n",
    "plt.show()"
   ]
  },
  {
   "attachments": {},
   "cell_type": "markdown",
   "id": "ahead-liquid",
   "metadata": {},
   "source": [
    "*Conclusion:* The difference between the values ​​is huge, that is why the graph looks so smooshed, the way to fix this is to normalize the input data."
   ]
  },
  {
   "attachments": {},
   "cell_type": "markdown",
   "id": "coordinate-sunrise",
   "metadata": {},
   "source": [
    "#### Exercise 12. How many real estate agencies does the dataset contain? (★★☆)\n",
    "\n",
    "Print the obtained value."
   ]
  },
  {
   "cell_type": "code",
   "execution_count": 15,
   "id": "valid-honolulu",
   "metadata": {},
   "outputs": [
    {
     "name": "stdout",
     "output_type": "stream",
     "text": [
      "The ammount of realstate agencies are: 14217\n"
     ]
    }
   ],
   "source": [
    "# thinking that the realstate agencies are given by the realstate id the solution would be\n",
    "ammount_realstate_agencies = len(df['id_realEstates'].unique())\n",
    "print(f'The ammount of realstate agencies are: {ammount_realstate_agencies}')"
   ]
  },
  {
   "attachments": {},
   "cell_type": "markdown",
   "id": "binding-ebony",
   "metadata": {},
   "source": [
    "#### Exercise 13. Which is the population (level5 column) that contains the most houses? (★★☆)\n",
    "\n",
    "Print both the population and the number of houses."
   ]
  },
  {
   "cell_type": "code",
   "execution_count": 16,
   "id": "static-perry",
   "metadata": {},
   "outputs": [
    {
     "name": "stdout",
     "output_type": "stream",
     "text": [
      "level5\n",
      " Madrid Capital         6643\n",
      "Alcalá de Henares        525\n",
      "Las Rozas de Madrid      383\n",
      "Móstoles                 325\n",
      "Getafe                   290\n",
      "                        ... \n",
      "Fresno de Torote           1\n",
      "Pinilla del Valle          1\n",
      "Rascafría                  1\n",
      "La Hiruela                 1\n",
      "Montejo de la Sierra       1\n",
      "Name: count, Length: 168, dtype: int64\n",
      "\n",
      "The population with the most ammount of houses is 'Madrid Capital' with 6643 houses\n"
     ]
    }
   ],
   "source": [
    "# count the amount of houses by each population\n",
    "houses_by_population = df['level5'].value_counts(sort=True)\n",
    "print(houses_by_population)\n",
    "\n",
    "# print the value\n",
    "print(f'''\\nThe population with the most ammount of houses is 'Madrid Capital' with {houses_by_population.iloc[0]} houses''')"
   ]
  },
  {
   "attachments": {},
   "cell_type": "markdown",
   "id": "entire-classification",
   "metadata": {},
   "source": [
    "#### Exercise 14. Now let's work with the \"south belt\" of Madrid. Make a subset of the original DataFrame that contains the following populations (level5 column): \"Fuenlabrada\", \"Leganés\", \"Getafe\", \"Alcorcón\" (★★☆)\n",
    "\n",
    "Hint: Filter the original DataFrame using the column `level5` and the function `isin`."
   ]
  },
  {
   "cell_type": "code",
   "execution_count": 17,
   "id": "binary-input",
   "metadata": {},
   "outputs": [
    {
     "name": "stdout",
     "output_type": "stream",
     "text": [
      "level5\n",
      "Getafe         290\n",
      "Fuenlabrada    233\n",
      "Leganés        194\n",
      "Alcorcón       190\n",
      "Name: count, dtype: int64\n"
     ]
    }
   ],
   "source": [
    "# get the sub dataframe\n",
    "south_belt = [\"Fuenlabrada\", \"Leganés\", \"Getafe\", \"Alcorcón\"]\n",
    "sub_df = df[df['level5'].isin(south_belt)]\n",
    "\n",
    "print(sub_df['level5'].value_counts())"
   ]
  },
  {
   "cell_type": "code",
   "execution_count": null,
   "id": "bd1b211a",
   "metadata": {},
   "outputs": [
    {
     "data": {
      "text/html": [
       "<div>\n",
       "<style scoped>\n",
       "    .dataframe tbody tr th:only-of-type {\n",
       "        vertical-align: middle;\n",
       "    }\n",
       "\n",
       "    .dataframe tbody tr th {\n",
       "        vertical-align: top;\n",
       "    }\n",
       "\n",
       "    .dataframe thead th {\n",
       "        text-align: right;\n",
       "    }\n",
       "</style>\n",
       "<table border=\"1\" class=\"dataframe\">\n",
       "  <thead>\n",
       "    <tr style=\"text-align: right;\">\n",
       "      <th></th>\n",
       "      <th>Unnamed: 0</th>\n",
       "      <th>id_realEstates</th>\n",
       "      <th>isNew</th>\n",
       "      <th>realEstate_name</th>\n",
       "      <th>phone_realEstate</th>\n",
       "      <th>url_inmueble</th>\n",
       "      <th>rooms</th>\n",
       "      <th>bathrooms</th>\n",
       "      <th>surface</th>\n",
       "      <th>price</th>\n",
       "      <th>...</th>\n",
       "      <th>level5Id</th>\n",
       "      <th>level6Id</th>\n",
       "      <th>level7Id</th>\n",
       "      <th>level8Id</th>\n",
       "      <th>accuracy</th>\n",
       "      <th>latitude</th>\n",
       "      <th>longitude</th>\n",
       "      <th>zipCode</th>\n",
       "      <th>customZone</th>\n",
       "      <th>pps</th>\n",
       "    </tr>\n",
       "  </thead>\n",
       "  <tbody>\n",
       "    <tr>\n",
       "      <th>1</th>\n",
       "      <td>2</td>\n",
       "      <td>153867863</td>\n",
       "      <td>False</td>\n",
       "      <td>tecnocasa fuenlabrada ferrocarril</td>\n",
       "      <td>916358736.0</td>\n",
       "      <td>https://www.fotocasa.es/es/comprar/vivienda/ma...</td>\n",
       "      <td>3.0</td>\n",
       "      <td>1.0</td>\n",
       "      <td>NaN</td>\n",
       "      <td>89000</td>\n",
       "      <td>...</td>\n",
       "      <td>0</td>\n",
       "      <td>0</td>\n",
       "      <td>0</td>\n",
       "      <td>0</td>\n",
       "      <td>1</td>\n",
       "      <td>40,28674</td>\n",
       "      <td>-3,79351</td>\n",
       "      <td>NaN</td>\n",
       "      <td>NaN</td>\n",
       "      <td>NaN</td>\n",
       "    </tr>\n",
       "    <tr>\n",
       "      <th>3</th>\n",
       "      <td>4</td>\n",
       "      <td>152776331</td>\n",
       "      <td>False</td>\n",
       "      <td>tecnocasa fuenlabrada ferrocarril</td>\n",
       "      <td>916358736.0</td>\n",
       "      <td>https://www.fotocasa.es/es/comprar/vivienda/ma...</td>\n",
       "      <td>3.0</td>\n",
       "      <td>1.0</td>\n",
       "      <td>86.0</td>\n",
       "      <td>89000</td>\n",
       "      <td>...</td>\n",
       "      <td>0</td>\n",
       "      <td>0</td>\n",
       "      <td>0</td>\n",
       "      <td>0</td>\n",
       "      <td>0</td>\n",
       "      <td>40,2853785786438</td>\n",
       "      <td>-3,79508142135624</td>\n",
       "      <td>NaN</td>\n",
       "      <td>NaN</td>\n",
       "      <td>1034.883721</td>\n",
       "    </tr>\n",
       "    <tr>\n",
       "      <th>85</th>\n",
       "      <td>86</td>\n",
       "      <td>153152077</td>\n",
       "      <td>False</td>\n",
       "      <td>sinergical inmobiliaria</td>\n",
       "      <td>NaN</td>\n",
       "      <td>https://www.fotocasa.es/es/comprar/vivienda/le...</td>\n",
       "      <td>1.0</td>\n",
       "      <td>1.0</td>\n",
       "      <td>50.0</td>\n",
       "      <td>107000</td>\n",
       "      <td>...</td>\n",
       "      <td>0</td>\n",
       "      <td>0</td>\n",
       "      <td>0</td>\n",
       "      <td>0</td>\n",
       "      <td>1</td>\n",
       "      <td>40,35059</td>\n",
       "      <td>-3,82693</td>\n",
       "      <td>NaN</td>\n",
       "      <td>NaN</td>\n",
       "      <td>2140.000000</td>\n",
       "    </tr>\n",
       "    <tr>\n",
       "      <th>94</th>\n",
       "      <td>95</td>\n",
       "      <td>153995577</td>\n",
       "      <td>False</td>\n",
       "      <td>viviendas365com</td>\n",
       "      <td>911226014.0</td>\n",
       "      <td>https://www.fotocasa.es/es/comprar/vivienda/le...</td>\n",
       "      <td>3.0</td>\n",
       "      <td>2.0</td>\n",
       "      <td>120.0</td>\n",
       "      <td>320000</td>\n",
       "      <td>...</td>\n",
       "      <td>0</td>\n",
       "      <td>0</td>\n",
       "      <td>0</td>\n",
       "      <td>0</td>\n",
       "      <td>0</td>\n",
       "      <td>40,31933</td>\n",
       "      <td>-3,77574</td>\n",
       "      <td>NaN</td>\n",
       "      <td>NaN</td>\n",
       "      <td>2666.666667</td>\n",
       "    </tr>\n",
       "    <tr>\n",
       "      <th>109</th>\n",
       "      <td>110</td>\n",
       "      <td>153586414</td>\n",
       "      <td>False</td>\n",
       "      <td>area uno asesores inmobiliarios</td>\n",
       "      <td>912664081.0</td>\n",
       "      <td>https://www.fotocasa.es/es/comprar/vivienda/ma...</td>\n",
       "      <td>3.0</td>\n",
       "      <td>3.0</td>\n",
       "      <td>142.0</td>\n",
       "      <td>425000</td>\n",
       "      <td>...</td>\n",
       "      <td>0</td>\n",
       "      <td>0</td>\n",
       "      <td>0</td>\n",
       "      <td>0</td>\n",
       "      <td>0</td>\n",
       "      <td>40,3313411</td>\n",
       "      <td>-3,8313868</td>\n",
       "      <td>NaN</td>\n",
       "      <td>NaN</td>\n",
       "      <td>2992.957746</td>\n",
       "    </tr>\n",
       "  </tbody>\n",
       "</table>\n",
       "<p>5 rows × 38 columns</p>\n",
       "</div>"
      ],
      "text/plain": [
       "     Unnamed: 0  id_realEstates  isNew                    realEstate_name  \\\n",
       "1             2       153867863  False  tecnocasa fuenlabrada ferrocarril   \n",
       "3             4       152776331  False  tecnocasa fuenlabrada ferrocarril   \n",
       "85           86       153152077  False            sinergical inmobiliaria   \n",
       "94           95       153995577  False                    viviendas365com   \n",
       "109         110       153586414  False    area uno asesores inmobiliarios   \n",
       "\n",
       "     phone_realEstate                                       url_inmueble  \\\n",
       "1         916358736.0  https://www.fotocasa.es/es/comprar/vivienda/ma...   \n",
       "3         916358736.0  https://www.fotocasa.es/es/comprar/vivienda/ma...   \n",
       "85                NaN  https://www.fotocasa.es/es/comprar/vivienda/le...   \n",
       "94        911226014.0  https://www.fotocasa.es/es/comprar/vivienda/le...   \n",
       "109       912664081.0  https://www.fotocasa.es/es/comprar/vivienda/ma...   \n",
       "\n",
       "     rooms  bathrooms  surface   price  ... level5Id level6Id level7Id  \\\n",
       "1      3.0        1.0      NaN   89000  ...        0        0        0   \n",
       "3      3.0        1.0     86.0   89000  ...        0        0        0   \n",
       "85     1.0        1.0     50.0  107000  ...        0        0        0   \n",
       "94     3.0        2.0    120.0  320000  ...        0        0        0   \n",
       "109    3.0        3.0    142.0  425000  ...        0        0        0   \n",
       "\n",
       "    level8Id accuracy          latitude          longitude zipCode customZone  \\\n",
       "1          0        1          40,28674           -3,79351     NaN        NaN   \n",
       "3          0        0  40,2853785786438  -3,79508142135624     NaN        NaN   \n",
       "85         0        1          40,35059           -3,82693     NaN        NaN   \n",
       "94         0        0          40,31933           -3,77574     NaN        NaN   \n",
       "109        0        0        40,3313411         -3,8313868     NaN        NaN   \n",
       "\n",
       "             pps  \n",
       "1            NaN  \n",
       "3    1034.883721  \n",
       "85   2140.000000  \n",
       "94   2666.666667  \n",
       "109  2992.957746  \n",
       "\n",
       "[5 rows x 38 columns]"
      ]
     },
     "execution_count": 18,
     "metadata": {},
     "output_type": "execute_result"
    }
   ],
   "source": [
    "sub_df.head()"
   ]
  },
  {
   "attachments": {},
   "cell_type": "markdown",
   "id": "severe-fisher",
   "metadata": {},
   "source": [
    "#### Exercise 15. Make a bar plot of the median of the prices and explain what you observe (you must use the subset obtained in Exercise 14) (★★★)\n",
    "\n",
    "Print the bar of the median of the prices and write in the Markdown cell a brief analysis about the plot."
   ]
  },
  {
   "cell_type": "code",
   "execution_count": 19,
   "id": "lyric-bunch",
   "metadata": {},
   "outputs": [
    {
     "name": "stdout",
     "output_type": "stream",
     "text": [
      "        level5          price\n",
      "0     Alcorcón  230071.052632\n",
      "1  Fuenlabrada  177198.021459\n",
      "2       Getafe  265040.500000\n",
      "3      Leganés  208682.010309\n"
     ]
    }
   ],
   "source": [
    "# group the data to get the mean of prices in each population\n",
    "# the used of reset_index() is to get the data as a dataframe\n",
    "values = sub_df.groupby(['level5'])['price'].mean().reset_index()\n",
    "print(values)"
   ]
  },
  {
   "cell_type": "code",
   "execution_count": 20,
   "id": "b4a534e1",
   "metadata": {},
   "outputs": [
    {
     "data": {
      "image/png": "[encoded data removed]",
      "text/plain": [
       "<Figure size 1000x500 with 1 Axes>"
      ]
     },
     "metadata": {},
     "output_type": "display_data"
    }
   ],
   "source": [
    "# create the plot\n",
    "X = values['level5']\n",
    "height = values['price']\n",
    "\n",
    "# set the plot\n",
    "plt.figure(figsize=(10,5))\n",
    "\n",
    "plt.bar(x=X, height=height)\n",
    "\n",
    "plt.title('Mean price by population')\n",
    "\n",
    "plt.xlabel('Population')\n",
    "plt.ylabel('Mean price')\n",
    "\n",
    "plt.show()"
   ]
  },
  {
   "attachments": {},
   "cell_type": "markdown",
   "id": "sublime-newspaper",
   "metadata": {},
   "source": [
    "*Conclusion:* The population with the highest mean price is Getafe and the one with the lowest mean is Fuenlabrada"
   ]
  },
  {
   "attachments": {},
   "cell_type": "markdown",
   "id": "speaking-diamond",
   "metadata": {},
   "source": [
    "#### Exercise 16. Calculate the sample mean and variance of the variables: price, rooms, surface area and bathrooms (you must use the subset obtained in Exercise 14) (★★★)\n",
    "\n",
    "Print both values for each variable."
   ]
  },
  {
   "cell_type": "code",
   "execution_count": 21,
   "id": "0512e433",
   "metadata": {},
   "outputs": [
    {
     "data": {
      "text/html": [
       "<div>\n",
       "<style scoped>\n",
       "    .dataframe tbody tr th:only-of-type {\n",
       "        vertical-align: middle;\n",
       "    }\n",
       "\n",
       "    .dataframe tbody tr th {\n",
       "        vertical-align: top;\n",
       "    }\n",
       "\n",
       "    .dataframe thead th {\n",
       "        text-align: right;\n",
       "    }\n",
       "</style>\n",
       "<table border=\"1\" class=\"dataframe\">\n",
       "  <thead>\n",
       "    <tr style=\"text-align: right;\">\n",
       "      <th></th>\n",
       "      <th>price</th>\n",
       "      <th>rooms</th>\n",
       "      <th>surface</th>\n",
       "      <th>bathrooms</th>\n",
       "    </tr>\n",
       "  </thead>\n",
       "  <tbody>\n",
       "    <tr>\n",
       "      <th>1</th>\n",
       "      <td>89000</td>\n",
       "      <td>3.0</td>\n",
       "      <td>NaN</td>\n",
       "      <td>1.0</td>\n",
       "    </tr>\n",
       "    <tr>\n",
       "      <th>3</th>\n",
       "      <td>89000</td>\n",
       "      <td>3.0</td>\n",
       "      <td>86.0</td>\n",
       "      <td>1.0</td>\n",
       "    </tr>\n",
       "    <tr>\n",
       "      <th>85</th>\n",
       "      <td>107000</td>\n",
       "      <td>1.0</td>\n",
       "      <td>50.0</td>\n",
       "      <td>1.0</td>\n",
       "    </tr>\n",
       "    <tr>\n",
       "      <th>94</th>\n",
       "      <td>320000</td>\n",
       "      <td>3.0</td>\n",
       "      <td>120.0</td>\n",
       "      <td>2.0</td>\n",
       "    </tr>\n",
       "    <tr>\n",
       "      <th>109</th>\n",
       "      <td>425000</td>\n",
       "      <td>3.0</td>\n",
       "      <td>142.0</td>\n",
       "      <td>3.0</td>\n",
       "    </tr>\n",
       "  </tbody>\n",
       "</table>\n",
       "</div>"
      ],
      "text/plain": [
       "      price  rooms  surface  bathrooms\n",
       "1     89000    3.0      NaN        1.0\n",
       "3     89000    3.0     86.0        1.0\n",
       "85   107000    1.0     50.0        1.0\n",
       "94   320000    3.0    120.0        2.0\n",
       "109  425000    3.0    142.0        3.0"
      ]
     },
     "execution_count": 21,
     "metadata": {},
     "output_type": "execute_result"
    }
   ],
   "source": [
    "# get the sub sub df\n",
    "sub_sub_df = sub_df[['price', 'rooms', 'surface', 'bathrooms']]\n",
    "sub_sub_df.head()"
   ]
  },
  {
   "cell_type": "code",
   "execution_count": 22,
   "id": "c071f741",
   "metadata": {},
   "outputs": [
    {
     "data": {
      "text/plain": [
       "price        223094.480706\n",
       "rooms             3.017738\n",
       "surface         111.752224\n",
       "bathrooms         1.633222\n",
       "dtype: float64"
      ]
     },
     "execution_count": 22,
     "metadata": {},
     "output_type": "execute_result"
    }
   ],
   "source": [
    "# print the mean\n",
    "sub_sub_df.mean()"
   ]
  },
  {
   "cell_type": "code",
   "execution_count": 23,
   "id": "random-feeling",
   "metadata": {},
   "outputs": [
    {
     "data": {
      "text/plain": [
       "price        1.492137e+10\n",
       "rooms        7.188859e-01\n",
       "surface      4.263052e+03\n",
       "bathrooms    5.717969e-01\n",
       "dtype: float64"
      ]
     },
     "execution_count": 23,
     "metadata": {},
     "output_type": "execute_result"
    }
   ],
   "source": [
    "# print the var\n",
    "sub_sub_df.var()"
   ]
  },
  {
   "attachments": {},
   "cell_type": "markdown",
   "id": "revolutionary-matrix",
   "metadata": {},
   "source": [
    "#### Exercise 17. What is the most expensive house in each population? You must use the subset obtained in Exercise 14 (★★☆)\n",
    "\n",
    "Print both the address and the price of the selected house of each population. You can print a DataFrame or a single line for each population."
   ]
  },
  {
   "cell_type": "code",
   "execution_count": 24,
   "id": "fifteen-browse",
   "metadata": {},
   "outputs": [
    {
     "name": "stdout",
     "output_type": "stream",
     "text": [
      "        level5    price\n",
      "0     Alcorcón   950000\n",
      "1  Fuenlabrada   490000\n",
      "2       Getafe  1050000\n",
      "3      Leganés   650000\n"
     ]
    }
   ],
   "source": [
    "# group the data to get the highest house price\n",
    "# the used of reset_index() is to get the data as a dataframe\n",
    "values = sub_df.groupby(['level5'])['price'].max().reset_index()\n",
    "print(values)"
   ]
  },
  {
   "attachments": {},
   "cell_type": "markdown",
   "id": "activated-knight",
   "metadata": {},
   "source": [
    "#### Exercise 18. Normalize the variable of prices for each population and plot the 4 histograms in the same plot (you must use the subset obtained in Exercise 14) (★★★)\n",
    "\n",
    "For the normalization method, you can use the one you consider; there is not a single correct answer to this question. Print the plot and write in the Markdown cell a brief analysis about the plot.\n",
    "\n",
    "Hint: You can help yourself by reviewing the *multihist* demo of Matplotlib."
   ]
  },
  {
   "cell_type": "code",
   "execution_count": 25,
   "id": "civic-meditation",
   "metadata": {},
   "outputs": [
    {
     "name": "stdout",
     "output_type": "stream",
     "text": [
      "        level5     price\n",
      "0     Alcorcón  0.904762\n",
      "1  Fuenlabrada  0.466667\n",
      "2       Getafe  1.000000\n",
      "3      Leganés  0.619048\n"
     ]
    }
   ],
   "source": [
    "# normalize the price in the sub_df\n",
    "norm_sub_df = sub_df.copy()\n",
    "norm_sub_df['price'] = (sub_df['price'] - sub_df['price'].min()) / (sub_df['price'].max() - sub_df['price'].min())\n",
    "\n",
    "# print the same output of the last exercise to see if the normalization worked\n",
    "values = norm_sub_df.groupby(['level5'])['price'].max().reset_index()\n",
    "print(values)"
   ]
  },
  {
   "cell_type": "code",
   "execution_count": 26,
   "id": "5e79701c",
   "metadata": {},
   "outputs": [
    {
     "name": "stdout",
     "output_type": "stream",
     "text": [
      "South belt values ['Fuenlabrada', 'Leganés', 'Getafe', 'Alcorcón']\n"
     ]
    },
    {
     "data": {
      "image/png": "[encoded data removed]",
      "text/plain": [
       "<Figure size 640x480 with 4 Axes>"
      ]
     },
     "metadata": {},
     "output_type": "display_data"
    }
   ],
   "source": [
    "# remenber the south belt \n",
    "print('South belt values', south_belt)\n",
    "\n",
    "# colors\n",
    "colors = ['red', 'tan', 'lime','skyblue']\n",
    "\n",
    "# multiple hist in one plot\n",
    "fig, ((ax0, ax1), (ax2, ax3)) = plt.subplots(nrows=2, ncols=2)\n",
    "\n",
    "# first hist\n",
    "ax0.hist(norm_sub_df[norm_sub_df['level5'] == south_belt[0]]['price'], color=colors[0])\n",
    "ax0.set_title('Fuenlabrada price hist')\n",
    "\n",
    "# second hist\n",
    "ax1.hist(norm_sub_df[norm_sub_df['level5'] == south_belt[1]]['price'], color=colors[1])\n",
    "ax1.set_title('Leganes price hist')\n",
    "\n",
    "# third hist\n",
    "ax2.hist(norm_sub_df[norm_sub_df['level5'] == south_belt[2]]['price'], color=colors[2])\n",
    "ax2.set_title('Getafe price hist')\n",
    "\n",
    "# fourth hist\n",
    "ax3.hist(norm_sub_df[norm_sub_df['level5'] == south_belt[3]]['price'], color=colors[3])\n",
    "ax3.set_title('Alorcon price hist')\n",
    "\n",
    "fig.tight_layout()\n",
    "plt.show()"
   ]
  },
  {
   "attachments": {},
   "cell_type": "markdown",
   "id": "precise-heavy",
   "metadata": {},
   "source": [
    "*Conclusion:* All populations appear to have a very similar distribution, alla have similar modes and all are bias to the left."
   ]
  },
  {
   "attachments": {},
   "cell_type": "markdown",
   "id": "patent-jonathan",
   "metadata": {},
   "source": [
    "#### Exercise 19. What can you say about the price per square meter (price/m2) between the towns of \"Getafe\" and \"Alcorcón\"? You must use the subset obtained in Exercise 14 (★★☆)\n",
    "\n",
    "Hint: Create a new column called `pps` (price per square meter) and then analyze the values."
   ]
  },
  {
   "cell_type": "code",
   "execution_count": 27,
   "id": "initial-liverpool",
   "metadata": {},
   "outputs": [
    {
     "name": "stdout",
     "output_type": "stream",
     "text": [
      "     level5          pps\n",
      "0  Alcorcón  2239.302480\n",
      "2    Getafe  2066.314949\n"
     ]
    }
   ],
   "source": [
    "# the column doesn't need to be created, because it was made before\n",
    "# calculate the average pps in each population\n",
    "values = sub_df.groupby(['level5'])['pps'].mean().reset_index().drop([1,3])\n",
    "print(values)"
   ]
  },
  {
   "cell_type": "code",
   "execution_count": null,
   "id": "8b5f314c",
   "metadata": {},
   "outputs": [
    {
     "data": {
      "image/png": "[encoded data removed]",
      "text/plain": [
       "<Figure size 640x480 with 2 Axes>"
      ]
     },
     "metadata": {},
     "output_type": "display_data"
    }
   ],
   "source": [
    "# colors\n",
    "colors = ['red', 'lime']\n",
    "\n",
    "# multiple hist in one plot\n",
    "fig, ((ax0, ax1)) = plt.subplots(nrows=1, ncols=2)\n",
    "\n",
    "# first hist\n",
    "ax0.hist(sub_df[sub_df['level5'] == south_belt[2]]['pps'], color=colors[0])\n",
    "ax0.set_title('Getafe price hist')\n",
    "\n",
    "# second hist\n",
    "ax1.hist(sub_df[sub_df['level5'] == south_belt[3]]['pps'], color=colors[1])\n",
    "ax1.set_title('Alarcon price hist')\n",
    "\n",
    "fig.tight_layout()\n",
    "plt.show()"
   ]
  },
  {
   "cell_type": "markdown",
   "id": "f1bd5bc7",
   "metadata": {},
   "source": [
    "*Conclusion:* Given these values ​​we can observe that the distribution for Getafe is skewed to the right and shows how there are a greater number of houses with prices between 1500 and 3000 units per square meter, while the distribution of Alarcon shows a not so skewed distribution where the greatest number of houses are found with prices per square meter between 1600 and 2500 units per square meter."
   ]
  },
  {
   "attachments": {},
   "cell_type": "markdown",
   "id": "enhanced-moscow",
   "metadata": {},
   "source": [
    "#### Exercise 20. Make the same plot for 4 different populations (level5 column) and rearrange them on the same graph. You must use the subset obtained in Exercise 14 (★★☆)\n",
    " \n",
    "Hint: Make a scatter plot of each population using subplots."
   ]
  },
  {
   "cell_type": "code",
   "execution_count": 29,
   "id": "accepting-airfare",
   "metadata": {},
   "outputs": [
    {
     "name": "stdout",
     "output_type": "stream",
     "text": [
      "        level5   surface\n",
      "0     Alcorcón  0.099288\n",
      "1  Fuenlabrada  0.095942\n",
      "2       Getafe  0.129965\n",
      "3      Leganés  0.099199\n"
     ]
    }
   ],
   "source": [
    "# following the last exercise the best plot to make is the price vs surface but with the normalize data\n",
    "# first lets normalize the surface\n",
    "norm_sub_df['surface'] = (norm_sub_df['surface'] - norm_sub_df['surface'].min()) / (norm_sub_df['surface'].max() - norm_sub_df['surface'].min())\n",
    "\n",
    "# print an output to see if the normalization worked\n",
    "values = norm_sub_df.groupby(['level5'])['surface'].mean().reset_index()\n",
    "print(values)"
   ]
  },
  {
   "cell_type": "code",
   "execution_count": 30,
   "id": "4ceb63fa",
   "metadata": {},
   "outputs": [
    {
     "name": "stdout",
     "output_type": "stream",
     "text": [
      "            level5     price   surface\n",
      "1      Fuenlabrada  0.084762       NaN\n",
      "3      Fuenlabrada  0.084762  0.070175\n",
      "85        Alcorcón  0.101905  0.017544\n",
      "94         Leganés  0.304762  0.119883\n",
      "109       Alcorcón  0.404762  0.152047\n",
      "...            ...       ...       ...\n",
      "15275  Fuenlabrada  0.131429  0.058480\n",
      "15291      Leganés  0.265714  0.105263\n",
      "15305  Fuenlabrada  0.161905  0.068713\n",
      "15322  Fuenlabrada  0.106667  0.077485\n",
      "15325  Fuenlabrada  0.204762  0.089181\n",
      "\n",
      "[907 rows x 3 columns]\n"
     ]
    }
   ],
   "source": [
    "# get the values that are going to be plotted\n",
    "values = norm_sub_df[['level5', 'price', 'surface']]\n",
    "print(values)"
   ]
  },
  {
   "cell_type": "code",
   "execution_count": 31,
   "id": "b17afd66",
   "metadata": {},
   "outputs": [
    {
     "name": "stdout",
     "output_type": "stream",
     "text": [
      "South belt values ['Fuenlabrada', 'Leganés', 'Getafe', 'Alcorcón']\n"
     ]
    },
    {
     "data": {
      "image/png": "[encoded data removed]",
      "text/plain": [
       "<Figure size 640x480 with 4 Axes>"
      ]
     },
     "metadata": {},
     "output_type": "display_data"
    }
   ],
   "source": [
    "# now lets create the plots\n",
    "# remenber the south belt \n",
    "print('South belt values', south_belt)\n",
    "\n",
    "# colors\n",
    "colors = ['red', 'tan', 'lime','skyblue']\n",
    "\n",
    "# multiple hist in one plot\n",
    "fig, ((ax0, ax1), (ax2, ax3)) = plt.subplots(nrows=2, ncols=2)\n",
    "\n",
    "# first hist\n",
    "values = norm_sub_df[norm_sub_df['level5'] == south_belt[0]][['price', 'surface']]\n",
    "\n",
    "ax0.scatter(x=values['surface'], y=values['price'], color=colors[0])\n",
    "\n",
    "ax0.set_title('Fuenlabrada price hist')\n",
    "ax0.set_ylabel('Price')\n",
    "ax0.set_xlabel('Surface')\n",
    "\n",
    "# second hist\n",
    "values = norm_sub_df[norm_sub_df['level5'] == south_belt[1]][['price', 'surface']]\n",
    "\n",
    "ax1.scatter(x=values['surface'], y=values['price'], color=colors[1])\n",
    "\n",
    "ax1.set_title('Leganes price hist')\n",
    "ax1.set_ylabel('Price')\n",
    "ax1.set_xlabel('Surface')\n",
    "\n",
    "# third hist\n",
    "values = norm_sub_df[norm_sub_df['level5'] == south_belt[2]][['price', 'surface']]\n",
    "\n",
    "ax2.scatter(x=values['surface'], y=values['price'], color=colors[2])\n",
    "\n",
    "ax2.set_title('Getafe price hist')\n",
    "ax2.set_ylabel('Price')\n",
    "ax2.set_xlabel('Surface')\n",
    "\n",
    "# fourth hist\n",
    "values = norm_sub_df[norm_sub_df['level5'] == south_belt[3]][['price', 'surface']]\n",
    "\n",
    "ax3.scatter(x=values['surface'], y=values['price'], color=colors[3])\n",
    "\n",
    "ax3.set_title('Alarcon price hist')\n",
    "ax3.set_ylabel('Price')\n",
    "ax3.set_xlabel('Surface')\n",
    "\n",
    "fig.tight_layout()\n",
    "plt.show()"
   ]
  },
  {
   "attachments": {},
   "cell_type": "markdown",
   "id": "blocked-effects",
   "metadata": {},
   "source": [
    "#### Exercise 21. Make a plot of the coordinates (latitude and longitude columns) of the south belt of Madrid by color of each population (you must use the subset obtained in Exercise 14) (★★★★)\n",
    "\n",
    "Execute the following cell, and then start coding in the next one. You must implement a simple code that transforms the coordinates columns in a Python dictionary (add more information if needed) and then add it to the map"
   ]
  },
  {
   "cell_type": "code",
   "execution_count": 32,
   "id": "headed-privacy",
   "metadata": {},
   "outputs": [],
   "source": [
    "from ipyleaflet import Map, basemaps, AwesomeIcon, Marker\n",
    "from ipywidgets import Layout\n",
    "\n",
    "# Map centered on (60 degrees latitude and -2.2 degrees longitude)\n",
    "# Latitude, longitude\n",
    "map = Map(\n",
    "    center = (40, -3), \n",
    "    zoom = 5,\n",
    "    basemap=basemaps.OpenStreetMap.Mapnik,\n",
    "    #layout=Layout(width='100%', height='800px')\n",
    "    )"
   ]
  },
  {
   "cell_type": "code",
   "execution_count": 33,
   "id": "6f27b912",
   "metadata": {},
   "outputs": [
    {
     "data": {
      "text/html": [
       "<div>\n",
       "<style scoped>\n",
       "    .dataframe tbody tr th:only-of-type {\n",
       "        vertical-align: middle;\n",
       "    }\n",
       "\n",
       "    .dataframe tbody tr th {\n",
       "        vertical-align: top;\n",
       "    }\n",
       "\n",
       "    .dataframe thead th {\n",
       "        text-align: right;\n",
       "    }\n",
       "</style>\n",
       "<table border=\"1\" class=\"dataframe\">\n",
       "  <thead>\n",
       "    <tr style=\"text-align: right;\">\n",
       "      <th></th>\n",
       "      <th>level5</th>\n",
       "      <th>latitude</th>\n",
       "      <th>longitude</th>\n",
       "    </tr>\n",
       "  </thead>\n",
       "  <tbody>\n",
       "    <tr>\n",
       "      <th>1</th>\n",
       "      <td>Fuenlabrada</td>\n",
       "      <td>40.286740</td>\n",
       "      <td>-3.793510</td>\n",
       "    </tr>\n",
       "    <tr>\n",
       "      <th>3</th>\n",
       "      <td>Fuenlabrada</td>\n",
       "      <td>40.285379</td>\n",
       "      <td>-3.795081</td>\n",
       "    </tr>\n",
       "    <tr>\n",
       "      <th>85</th>\n",
       "      <td>Alcorcón</td>\n",
       "      <td>40.350590</td>\n",
       "      <td>-3.826930</td>\n",
       "    </tr>\n",
       "    <tr>\n",
       "      <th>94</th>\n",
       "      <td>Leganés</td>\n",
       "      <td>40.319330</td>\n",
       "      <td>-3.775740</td>\n",
       "    </tr>\n",
       "    <tr>\n",
       "      <th>109</th>\n",
       "      <td>Alcorcón</td>\n",
       "      <td>40.331341</td>\n",
       "      <td>-3.831387</td>\n",
       "    </tr>\n",
       "  </tbody>\n",
       "</table>\n",
       "</div>"
      ],
      "text/plain": [
       "          level5   latitude  longitude\n",
       "1    Fuenlabrada  40.286740  -3.793510\n",
       "3    Fuenlabrada  40.285379  -3.795081\n",
       "85      Alcorcón  40.350590  -3.826930\n",
       "94       Leganés  40.319330  -3.775740\n",
       "109     Alcorcón  40.331341  -3.831387"
      ]
     },
     "execution_count": 33,
     "metadata": {},
     "output_type": "execute_result"
    }
   ],
   "source": [
    "# prepare the df\n",
    "sub_df = sub_df[['level5', 'latitude', 'longitude']].dropna(axis=0)\n",
    "\n",
    "# convert from string to float\n",
    "sub_df['latitude'] = sub_df['latitude'].str.replace(',', '.')\n",
    "sub_df['latitude'] = pd.to_numeric(sub_df['latitude'], errors='coerce') \n",
    "\n",
    "sub_df['longitude'] = sub_df['longitude'].str.replace(',', '.')\n",
    "sub_df['longitude'] = pd.to_numeric(sub_df['longitude'], errors='coerce') \n",
    "\n",
    "sub_df.head()"
   ]
  },
  {
   "cell_type": "code",
   "execution_count": 34,
   "id": "a4218e07",
   "metadata": {},
   "outputs": [
    {
     "data": {
      "image/png": "[encoded data removed]",
      "text/plain": [
       "<Figure size 800x800 with 1 Axes>"
      ]
     },
     "metadata": {},
     "output_type": "display_data"
    }
   ],
   "source": [
    "# normalize the data to see the graphic\n",
    "norm_sub_df['latitude'] = (sub_df['latitude'] - sub_df['latitude'].min()) / (sub_df['latitude'].max() - sub_df['latitude'].min())\n",
    "norm_sub_df['longitude'] = (sub_df['longitude'] - sub_df['longitude'].min()) / (sub_df['longitude'].max() - sub_df['longitude'].min())\n",
    "\n",
    "# set the plot\n",
    "plt.figure(figsize=(8, 8))\n",
    "\n",
    "plt.scatter(x=norm_sub_df['latitude'], y=norm_sub_df['longitude'])\n",
    "\n",
    "plt.title('Histogram of latitude')\n",
    "plt.xlabel('Latitude')\n",
    "plt.ylabel('Longitude')\n",
    "plt.show()"
   ]
  },
  {
   "cell_type": "markdown",
   "id": "4ff568f3",
   "metadata": {},
   "source": [
    "### Results\n",
    "\n",
    "Thnaksn to the resutl of the last plot the markers on the map are not going to be easly observable because they are going to be to close to each other. I made this graph because in the map I could only watch one marker. \n",
    "\n",
    "The problem ended up being that the markers need to be floats, and the data type in the original dataframe was string."
   ]
  },
  {
   "cell_type": "code",
   "execution_count": 35,
   "id": "3cb3f57a",
   "metadata": {},
   "outputs": [],
   "source": [
    "# function to get the icon based in the population\n",
    "def get_icon(population: str) -> AwesomeIcon :\n",
    "    name = 'gear'\n",
    "    marker_color = ''\n",
    "    icon_color = 'black'\n",
    "\n",
    "    # verify the population\n",
    "    if population == south_belt[0]:\n",
    "        marker_color = 'red'\n",
    "    elif population == south_belt[1]:\n",
    "        marker_color = 'green'\n",
    "    elif population == south_belt[2]:\n",
    "        marker_color = 'blue'\n",
    "    elif population == south_belt[3]:\n",
    "        marker_color = 'orange'\n",
    "\n",
    "    return AwesomeIcon(\n",
    "        name=name,\n",
    "        marker_color=marker_color,\n",
    "        icon_color=icon_color,\n",
    "        spin=False\n",
    "    )"
   ]
  },
  {
   "cell_type": "code",
   "execution_count": 36,
   "id": "present-mistress",
   "metadata": {},
   "outputs": [],
   "source": [
    "markers = []\n",
    "\n",
    "# for each row create the marker\n",
    "for index, row in sub_df.iterrows():\n",
    "    markers.append(Marker(icon= get_icon(population=row['level5']), location=(row['latitude'], row['longitude']), draggable=False))\n",
    "\n",
    "# add to the map all the created markers\n",
    "for marker in markers:\n",
    "    map.add(marker)"
   ]
  },
  {
   "cell_type": "code",
   "execution_count": 37,
   "metadata": {},
   "outputs": [
    {
     "data": {
      "application/vnd.jupyter.widget-view+json": {
       "model_id": "8d1d66a7ca884997a2a3366470707419",
       "version_major": 2,
       "version_minor": 0
      },
      "text/plain": [
       "Map(center=[40, -3], controls=(ZoomControl(options=['position', 'zoom_in_text', 'zoom_in_title', 'zoom_out_tex…"
      ]
     },
     "execution_count": 37,
     "metadata": {},
     "output_type": "execute_result"
    }
   ],
   "source": [
    "map"
   ]
  }
 ],
 "metadata": {
  "kernelspec": {
   "display_name": "Python 3",
   "language": "python",
   "name": "python3"
  },
  "language_info": {
   "codemirror_mode": {
    "name": "ipython",
    "version": 3
   },
   "file_extension": ".py",
   "mimetype": "text/x-python",
   "name": "python",
   "nbconvert_exporter": "python",
   "pygments_lexer": "ipython3",
   "version": "3.11.4"
  }
 },
 "nbformat": 4,
 "nbformat_minor": 5
}
